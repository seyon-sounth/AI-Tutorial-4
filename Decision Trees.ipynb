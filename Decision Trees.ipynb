{
 "cells": [
  {
   "cell_type": "markdown",
   "metadata": {},
   "source": [
    "COMP 472 - Decision Trees COMP 6721 Applied Artificial Intelligence\n",
    "\n",
    "Write a Python program that uses scikit-learn’s Decision Tree Classifier:"
   ]
  },
  {
   "cell_type": "markdown",
   "metadata": {},
   "source": [
    "# Question 1 \n",
    "Given the training instances below, use information theory to find whether\n",
    "‘Outlook’ or ‘Windy’ is the best feature to decide when to play a game of golf."
   ]
  },
  {
   "cell_type": "code",
   "execution_count": 1,
   "metadata": {},
   "outputs": [
    {
     "name": "stdout",
     "output_type": "stream",
     "text": [
      "[['sunny' '85' '85' '0' \"Don't Play\"]\n",
      " ['sunny' '80' '90' '1' \"Don't Play\"]\n",
      " ['overcast' '83' '78' '0' 'Play']\n",
      " ['rain' '70' '96' '0' 'Play']\n",
      " ['rain' '68' '80' '0' 'Play']\n",
      " ['rain' '65' '70' '1' \"Don't Play\"]\n",
      " ['overcast' '64' '65' '1' 'Play']\n",
      " ['sunny' '72' '95' '0' \"Don't Play\"]\n",
      " ['sunny' '69' '70' '0' 'Play']\n",
      " ['rain' '75' '80' '0' 'Play']\n",
      " ['sunny' '75' '70' '1' 'Play']\n",
      " ['overcast' '72' '90' '1' 'Play']\n",
      " ['overcast' '81' '75' '0' 'Play']\n",
      " ['rain' '71' '80' '1' \"Don't Play\"]]\n"
     ]
    }
   ],
   "source": [
    "import numpy as np\n",
    "dataset = np.array([\n",
    "['sunny', 85, 85, 0, 'Don\\'t Play'],\n",
    "['sunny', 80, 90, 1, 'Don\\'t Play'],\n",
    "['overcast', 83, 78, 0, 'Play'],\n",
    "['rain', 70, 96, 0, 'Play'],\n",
    "['rain', 68, 80, 0, 'Play'],\n",
    "['rain', 65, 70, 1, 'Don\\'t Play'],\n",
    "['overcast', 64, 65, 1, 'Play'],\n",
    "['sunny', 72, 95, 0, 'Don\\'t Play'],\n",
    "['sunny', 69, 70, 0, 'Play'],\n",
    "['rain', 75, 80, 0, 'Play'],\n",
    "['sunny', 75, 70, 1, 'Play'],\n",
    "['overcast', 72, 90,1, 'Play'],\n",
    "['overcast', 81, 75, 0, 'Play'],\n",
    "['rain', 71, 80, 1, 'Don\\'t Play'],\n",
    "])\n",
    "print(dataset)"
   ]
  },
  {
   "cell_type": "code",
   "execution_count": 2,
   "metadata": {},
   "outputs": [
    {
     "data": {
      "application/javascript": [
       "\n",
       "        if (window._pyforest_update_imports_cell) { window._pyforest_update_imports_cell('import pandas as pd'); }\n",
       "    "
      ],
      "text/plain": [
       "<IPython.core.display.Javascript object>"
      ]
     },
     "metadata": {},
     "output_type": "display_data"
    },
    {
     "data": {
      "text/html": [
       "<div>\n",
       "<style scoped>\n",
       "    .dataframe tbody tr th:only-of-type {\n",
       "        vertical-align: middle;\n",
       "    }\n",
       "\n",
       "    .dataframe tbody tr th {\n",
       "        vertical-align: top;\n",
       "    }\n",
       "\n",
       "    .dataframe thead th {\n",
       "        text-align: right;\n",
       "    }\n",
       "</style>\n",
       "<table border=\"1\" class=\"dataframe\">\n",
       "  <thead>\n",
       "    <tr style=\"text-align: right;\">\n",
       "      <th></th>\n",
       "      <th>Outlook</th>\n",
       "      <th>Temperature</th>\n",
       "      <th>Humidity</th>\n",
       "      <th>Windy</th>\n",
       "      <th>Play / Don’t Play</th>\n",
       "    </tr>\n",
       "  </thead>\n",
       "  <tbody>\n",
       "    <tr>\n",
       "      <th></th>\n",
       "      <td>sunny</td>\n",
       "      <td>85</td>\n",
       "      <td>85</td>\n",
       "      <td>0</td>\n",
       "      <td>Don't Play</td>\n",
       "    </tr>\n",
       "    <tr>\n",
       "      <th></th>\n",
       "      <td>sunny</td>\n",
       "      <td>80</td>\n",
       "      <td>90</td>\n",
       "      <td>1</td>\n",
       "      <td>Don't Play</td>\n",
       "    </tr>\n",
       "    <tr>\n",
       "      <th></th>\n",
       "      <td>overcast</td>\n",
       "      <td>83</td>\n",
       "      <td>78</td>\n",
       "      <td>0</td>\n",
       "      <td>Play</td>\n",
       "    </tr>\n",
       "    <tr>\n",
       "      <th></th>\n",
       "      <td>rain</td>\n",
       "      <td>70</td>\n",
       "      <td>96</td>\n",
       "      <td>0</td>\n",
       "      <td>Play</td>\n",
       "    </tr>\n",
       "    <tr>\n",
       "      <th></th>\n",
       "      <td>rain</td>\n",
       "      <td>68</td>\n",
       "      <td>80</td>\n",
       "      <td>0</td>\n",
       "      <td>Play</td>\n",
       "    </tr>\n",
       "    <tr>\n",
       "      <th></th>\n",
       "      <td>rain</td>\n",
       "      <td>65</td>\n",
       "      <td>70</td>\n",
       "      <td>1</td>\n",
       "      <td>Don't Play</td>\n",
       "    </tr>\n",
       "    <tr>\n",
       "      <th></th>\n",
       "      <td>overcast</td>\n",
       "      <td>64</td>\n",
       "      <td>65</td>\n",
       "      <td>1</td>\n",
       "      <td>Play</td>\n",
       "    </tr>\n",
       "    <tr>\n",
       "      <th></th>\n",
       "      <td>sunny</td>\n",
       "      <td>72</td>\n",
       "      <td>95</td>\n",
       "      <td>0</td>\n",
       "      <td>Don't Play</td>\n",
       "    </tr>\n",
       "    <tr>\n",
       "      <th></th>\n",
       "      <td>sunny</td>\n",
       "      <td>69</td>\n",
       "      <td>70</td>\n",
       "      <td>0</td>\n",
       "      <td>Play</td>\n",
       "    </tr>\n",
       "    <tr>\n",
       "      <th></th>\n",
       "      <td>rain</td>\n",
       "      <td>75</td>\n",
       "      <td>80</td>\n",
       "      <td>0</td>\n",
       "      <td>Play</td>\n",
       "    </tr>\n",
       "    <tr>\n",
       "      <th></th>\n",
       "      <td>sunny</td>\n",
       "      <td>75</td>\n",
       "      <td>70</td>\n",
       "      <td>1</td>\n",
       "      <td>Play</td>\n",
       "    </tr>\n",
       "    <tr>\n",
       "      <th></th>\n",
       "      <td>overcast</td>\n",
       "      <td>72</td>\n",
       "      <td>90</td>\n",
       "      <td>1</td>\n",
       "      <td>Play</td>\n",
       "    </tr>\n",
       "    <tr>\n",
       "      <th></th>\n",
       "      <td>overcast</td>\n",
       "      <td>81</td>\n",
       "      <td>75</td>\n",
       "      <td>0</td>\n",
       "      <td>Play</td>\n",
       "    </tr>\n",
       "    <tr>\n",
       "      <th></th>\n",
       "      <td>rain</td>\n",
       "      <td>71</td>\n",
       "      <td>80</td>\n",
       "      <td>1</td>\n",
       "      <td>Don't Play</td>\n",
       "    </tr>\n",
       "  </tbody>\n",
       "</table>\n",
       "</div>"
      ],
      "text/plain": [
       "   Outlook Temperature Humidity Windy Play / Don’t Play\n",
       "     sunny          85       85     0        Don't Play\n",
       "     sunny          80       90     1        Don't Play\n",
       "  overcast          83       78     0              Play\n",
       "      rain          70       96     0              Play\n",
       "      rain          68       80     0              Play\n",
       "      rain          65       70     1        Don't Play\n",
       "  overcast          64       65     1              Play\n",
       "     sunny          72       95     0        Don't Play\n",
       "     sunny          69       70     0              Play\n",
       "      rain          75       80     0              Play\n",
       "     sunny          75       70     1              Play\n",
       "  overcast          72       90     1              Play\n",
       "  overcast          81       75     0              Play\n",
       "      rain          71       80     1        Don't Play"
      ]
     },
     "execution_count": 2,
     "metadata": {},
     "output_type": "execute_result"
    }
   ],
   "source": [
    "import pandas as pd\n",
    "df2 = pd.DataFrame(dataset,\n",
    "                   columns=['Outlook', 'Temperature', 'Humidity','Windy','Play / Don’t Play'])\n",
    "blankIndex=[''] * len(df2)\n",
    "df2.index=blankIndex\n",
    "df2"
   ]
  },
  {
   "cell_type": "markdown",
   "metadata": {},
   "source": [
    "EXERCISE 1"
   ]
  },
  {
   "cell_type": "code",
   "execution_count": 3,
   "metadata": {},
   "outputs": [],
   "source": [
    "from sklearn import tree\n",
    "from sklearn import preprocessing"
   ]
  },
  {
   "cell_type": "markdown",
   "metadata": {},
   "source": [
    "For our feature vectors, we need the first four columns and for the training labels, we use the last column from the dataset:\n"
   ]
  },
  {
   "cell_type": "code",
   "execution_count": 5,
   "metadata": {},
   "outputs": [],
   "source": [
    "X = dataset[:, 0:4]\n",
    "y = dataset[:, 4]"
   ]
  },
  {
   "cell_type": "markdown",
   "metadata": {},
   "source": [
    "However, you will not be able to use the data as-is: All features must be\n",
    "numerical for training the classifier, so you have to transform the strings into\n",
    "numbers. Fortunately, scikit-learn has a preprocessing class for label encoding\n",
    "that we can use:"
   ]
  },
  {
   "cell_type": "code",
   "execution_count": 6,
   "metadata": {},
   "outputs": [],
   "source": [
    "le = preprocessing.LabelEncoder()\n",
    "X[:, 0] = le.fit_transform(X[:, 0])\n",
    "y = le.fit_transform(y)"
   ]
  },
  {
   "cell_type": "markdown",
   "metadata": {},
   "source": [
    "Now you can create a classifier object:"
   ]
  },
  {
   "cell_type": "code",
   "execution_count": 7,
   "metadata": {},
   "outputs": [],
   "source": [
    "dtc = tree.DecisionTreeClassifier(criterion=\"entropy\")"
   ]
  },
  {
   "cell_type": "markdown",
   "metadata": {},
   "source": [
    "Note that we are using the entropy option for building the tree, which is the\n",
    "method we’ve studied in class and used on the exercise sheet. Train the classifier\n",
    "to build the tree:\n"
   ]
  },
  {
   "cell_type": "code",
   "execution_count": 8,
   "metadata": {},
   "outputs": [
    {
     "data": {
      "text/plain": [
       "DecisionTreeClassifier(criterion='entropy')"
      ]
     },
     "execution_count": 8,
     "metadata": {},
     "output_type": "execute_result"
    }
   ],
   "source": [
    "dtc.fit(X, y)"
   ]
  },
  {
   "cell_type": "markdown",
   "metadata": {},
   "source": [
    "Now you can predict a new value using dtc.predict(test). Note: if you want the string output that\n",
    "you transformed above, you can use the inverse_transform(predict) function\n",
    "of a label encoder to change the predicted result back into a string."
   ]
  },
  {
   "cell_type": "code",
   "execution_count": 9,
   "metadata": {},
   "outputs": [
    {
     "name": "stdout",
     "output_type": "stream",
     "text": [
      "Predicted output:  [\"Don't Play\"]\n"
     ]
    }
   ],
   "source": [
    "y_pred = dtc.predict([[2, 81, 95, 1]])\n",
    "print(\"Predicted output: \", le.inverse_transform(y_pred))"
   ]
  },
  {
   "cell_type": "markdown",
   "metadata": {},
   "source": [
    "You can also print the tree:"
   ]
  },
  {
   "cell_type": "code",
   "execution_count": 10,
   "metadata": {},
   "outputs": [
    {
     "data": {
      "text/plain": [
       "[Text(191.31428571428572, 199.32, 'X[0] <= 0.5\\nentropy = 0.94\\nsamples = 14\\nvalue = [5, 9]'),\n",
       " Text(143.4857142857143, 163.07999999999998, 'entropy = 0.0\\nsamples = 4\\nvalue = [0, 4]'),\n",
       " Text(239.14285714285714, 163.07999999999998, 'X[1] <= 77.5\\nentropy = 1.0\\nsamples = 10\\nvalue = [5, 5]'),\n",
       " Text(191.31428571428572, 126.83999999999999, 'X[1] <= 73.5\\nentropy = 0.954\\nsamples = 8\\nvalue = [3, 5]'),\n",
       " Text(143.4857142857143, 90.6, 'X[3] <= 0.5\\nentropy = 1.0\\nsamples = 6\\nvalue = [3, 3]'),\n",
       " Text(95.65714285714286, 54.359999999999985, 'X[1] <= 71.0\\nentropy = 0.811\\nsamples = 4\\nvalue = [1, 3]'),\n",
       " Text(47.82857142857143, 18.119999999999976, 'entropy = 0.0\\nsamples = 3\\nvalue = [0, 3]'),\n",
       " Text(143.4857142857143, 18.119999999999976, 'entropy = 0.0\\nsamples = 1\\nvalue = [1, 0]'),\n",
       " Text(191.31428571428572, 54.359999999999985, 'entropy = 0.0\\nsamples = 2\\nvalue = [2, 0]'),\n",
       " Text(239.14285714285714, 90.6, 'entropy = 0.0\\nsamples = 2\\nvalue = [0, 2]'),\n",
       " Text(286.9714285714286, 126.83999999999999, 'entropy = 0.0\\nsamples = 2\\nvalue = [2, 0]')]"
      ]
     },
     "execution_count": 10,
     "metadata": {},
     "output_type": "execute_result"
    },
    {
     "data": {
      "image/png": "[encoded data removed]",
      "text/plain": [
       "<Figure size 432x288 with 1 Axes>"
      ]
     },
     "metadata": {
      "needs_background": "light"
     },
     "output_type": "display_data"
    }
   ],
   "source": [
    "tree.plot_tree(dtc)"
   ]
  },
  {
   "cell_type": "markdown",
   "metadata": {},
   "source": [
    "but this can be a bit hard to read; to get a prettier version you can use the\n",
    "Graphviz visualization software, which you can call from Python like this:"
   ]
  },
  {
   "cell_type": "code",
   "execution_count": 11,
   "metadata": {},
   "outputs": [
    {
     "data": {
      "text/plain": [
       "'mytree1.pdf'"
      ]
     },
     "execution_count": 11,
     "metadata": {},
     "output_type": "execute_result"
    }
   ],
   "source": [
    "import graphviz\n",
    "dot_data = tree.export_graphviz(dtc, out_file=None,\n",
    "feature_names=['Outlook', 'Temperature', 'Humidity', 'Windy'],\n",
    "class_names=le.classes_,\n",
    "filled=True, rounded=True)\n",
    "graph = graphviz.Source(dot_data)\n",
    "graph.render(\"mytree1\")"
   ]
  },
  {
   "cell_type": "markdown",
   "metadata": {},
   "source": [
    "The result will be stored in a file mytree.pdf "
   ]
  },
  {
   "cell_type": "markdown",
   "metadata": {},
   "source": [
    "EXERCISE 2 "
   ]
  },
  {
   "cell_type": "markdown",
   "metadata": {},
   "source": [
    "Let’s start working with some “real” data: scikit-learn comes with a number of\n",
    "example datasets, including the Iris flower dataset. If you do not know this\n",
    "dataset, start by reading https://en.wikipedia.org/wiki/Iris_flower_data_\n",
    "set.\n"
   ]
  },
  {
   "cell_type": "code",
   "execution_count": 12,
   "metadata": {},
   "outputs": [
    {
     "data": {
      "application/javascript": [
       "\n",
       "        if (window._pyforest_update_imports_cell) { window._pyforest_update_imports_cell('import pandas as pd\\nfrom sklearn.model_selection import train_test_split'); }\n",
       "    "
      ],
      "text/plain": [
       "<IPython.core.display.Javascript object>"
      ]
     },
     "metadata": {},
     "output_type": "display_data"
    },
    {
     "data": {
      "text/plain": [
       "[Text(133.92000000000002, 195.696, 'X[2] <= 2.5\\nentropy = 1.57\\nsamples = 60\\nvalue = [24, 17, 19]'),\n",
       " Text(66.96000000000001, 152.208, 'entropy = 0.0\\nsamples = 24\\nvalue = [24, 0, 0]'),\n",
       " Text(200.88000000000002, 152.208, 'X[2] <= 5.05\\nentropy = 0.998\\nsamples = 36\\nvalue = [0, 17, 19]'),\n",
       " Text(133.92000000000002, 108.72, 'X[3] <= 1.75\\nentropy = 0.485\\nsamples = 19\\nvalue = [0, 17, 2]'),\n",
       " Text(66.96000000000001, 65.232, 'entropy = 0.0\\nsamples = 16\\nvalue = [0, 16, 0]'),\n",
       " Text(200.88000000000002, 65.232, 'X[1] <= 3.1\\nentropy = 0.918\\nsamples = 3\\nvalue = [0, 1, 2]'),\n",
       " Text(133.92000000000002, 21.744, 'entropy = 0.0\\nsamples = 2\\nvalue = [0, 0, 2]'),\n",
       " Text(267.84000000000003, 21.744, 'entropy = 0.0\\nsamples = 1\\nvalue = [0, 1, 0]'),\n",
       " Text(267.84000000000003, 108.72, 'entropy = 0.0\\nsamples = 17\\nvalue = [0, 0, 17]')]"
      ]
     },
     "execution_count": 12,
     "metadata": {},
     "output_type": "execute_result"
    },
    {
     "data": {
      "image/png": "[encoded data removed]",
      "text/plain": [
       "<Figure size 432x288 with 1 Axes>"
      ]
     },
     "metadata": {
      "needs_background": "light"
     },
     "output_type": "display_data"
    }
   ],
   "source": [
    "from sklearn import tree\n",
    "from sklearn.datasets import load_iris\n",
    "# load the Iris dataset\n",
    "iris = load_iris()\n",
    "X, y = iris.data, iris.target\n",
    "X_train, X_test, y_train, y_test = train_test_split(\n",
    "X, y, test_size=0.6, random_state=0)\n",
    "# create and print the decision tree\n",
    "dtc = tree.DecisionTreeClassifier(criterion=\"entropy\")\n",
    "dtc.fit(X_train, y_train)\n",
    "tree.plot_tree(dtc)"
   ]
  },
  {
   "cell_type": "code",
   "execution_count": 13,
   "metadata": {},
   "outputs": [
    {
     "data": {
      "text/plain": [
       "'iristree.pdf'"
      ]
     },
     "execution_count": 13,
     "metadata": {},
     "output_type": "execute_result"
    }
   ],
   "source": [
    "import graphviz\n",
    "dot_data = tree.export_graphviz(dtc, out_file=None,\n",
    "feature_names=iris.feature_names,\n",
    "class_names=iris.target_names,\n",
    "filled=True, rounded=True,\n",
    "special_characters=True)\n",
    "graph = graphviz.Source(dot_data)\n",
    "graph.render(\"iristree\")\n"
   ]
  },
  {
   "cell_type": "markdown",
   "metadata": {},
   "source": [
    "Now you have to evaluate the performance of your classifier. Use scikitlearn’s train_test_split helper function5\n",
    "to split the Iris dataset into\n",
    "a training and testing subset, as discussed in the lecture. Now run an\n",
    "evaluation to compute the Precision, Recall, F1-measure, and Accuracy\n",
    "of your classifier using the evaluation tools in scikit-learn.\n"
   ]
  },
  {
   "cell_type": "markdown",
   "metadata": {},
   "source": [
    "To create an 80%/20% split of the training/testing data, use:"
   ]
  },
  {
   "cell_type": "markdown",
   "metadata": {},
   "source": [
    "scikit-learn has a helper function to produce a report for all the metrics,\n",
    "classification_report:"
   ]
  },
  {
   "cell_type": "code",
   "execution_count": 14,
   "metadata": {},
   "outputs": [
    {
     "name": "stdout",
     "output_type": "stream",
     "text": [
      "              precision    recall  f1-score   support\n",
      "\n",
      "           0       1.00      1.00      1.00        26\n",
      "           1       0.94      0.97      0.96        33\n",
      "           2       0.97      0.94      0.95        31\n",
      "\n",
      "    accuracy                           0.97        90\n",
      "   macro avg       0.97      0.97      0.97        90\n",
      "weighted avg       0.97      0.97      0.97        90\n",
      "\n"
     ]
    }
   ],
   "source": [
    "y_pred = dtc.predict(X_test)\n",
    "from sklearn.metrics import classification_report\n",
    "print(classification_report(y_test, y_pred))\n"
   ]
  },
  {
   "cell_type": "markdown",
   "metadata": {},
   "source": [
    "As you can see, the data was easy to learn and your classifier has a perfect\n",
    "score. Try decreasing the training data to just 50% of the dataset to see\n",
    "some errors.\n",
    "Note: Since we have more than two classes, the above metrics are an\n",
    "average of the values for each individual class.\n"
   ]
  },
  {
   "cell_type": "markdown",
   "metadata": {},
   "source": [
    "Finally, compute and print out the confusion matrix."
   ]
  },
  {
   "cell_type": "code",
   "execution_count": 15,
   "metadata": {},
   "outputs": [
    {
     "name": "stdout",
     "output_type": "stream",
     "text": [
      "Confusion Matrix:\n",
      " [[26  0  0]\n",
      " [ 0 32  1]\n",
      " [ 0  2 29]]\n"
     ]
    }
   ],
   "source": [
    "from sklearn.metrics import confusion_matrix\n",
    "print(\"Confusion Matrix:\\n\", confusion_matrix(y_test, y_pred))"
   ]
  },
  {
   "cell_type": "code",
   "execution_count": null,
   "metadata": {},
   "outputs": [],
   "source": []
  }
 ],
 "metadata": {
  "kernelspec": {
   "display_name": "Python 3",
   "language": "python",
   "name": "python3"
  },
  "language_info": {
   "codemirror_mode": {
    "name": "ipython",
    "version": 3
   },
   "file_extension": ".py",
   "mimetype": "text/x-python",
   "name": "python",
   "nbconvert_exporter": "python",
   "pygments_lexer": "ipython3",
   "version": "3.8.5"
  }
 },
 "nbformat": 4,
 "nbformat_minor": 4
}
